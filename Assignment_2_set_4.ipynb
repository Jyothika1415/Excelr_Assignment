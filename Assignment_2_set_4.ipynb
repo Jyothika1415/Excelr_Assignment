{
  "nbformat": 4,
  "nbformat_minor": 0,
  "metadata": {
    "colab": {
      "provenance": [],
      "authorship_tag": "ABX9TyNf7vkWp1DIRF+jVZHNSIoz",
      "include_colab_link": true
    },
    "kernelspec": {
      "name": "python3",
      "display_name": "Python 3"
    },
    "language_info": {
      "name": "python"
    }
  },
  "cells": [
    {
      "cell_type": "markdown",
      "metadata": {
        "id": "view-in-github",
        "colab_type": "text"
      },
      "source": [
        "<a href=\"https://colab.research.google.com/github/Jyothika1415/Excelr_Assignment/blob/main/Assignment_2_set_4.ipynb\" target=\"_parent\"><img src=\"https://colab.research.google.com/assets/colab-badge.svg\" alt=\"Open In Colab\"/></a>"
      ]
    },
    {
      "cell_type": "code",
      "execution_count": 1,
      "metadata": {
        "id": "ugMwM-SoVMTE"
      },
      "outputs": [],
      "source": [
        "import pandas as pd\n",
        "import numpy as np\n",
        "import matplotlib.pyplot as plt\n",
        "import scipy.stats as stats\n",
        "import seaborn as sns\n",
        "import statsmodels.api as smf\n",
        "import warnings\n",
        "warnings.filterwarnings('ignore')"
      ]
    },
    {
      "cell_type": "code",
      "source": [
        "# Q3"
      ],
      "metadata": {
        "id": "Q8VV7xUKVc9Y"
      },
      "execution_count": 2,
      "outputs": []
    },
    {
      "cell_type": "code",
      "source": [
        "mean = 50\n",
        "std = 40\n",
        "n = 100\n",
        "dof = 100 - 1\n",
        "\n",
        "#t-distribution\n",
        "t_forty_five = (45-50)/(40/np.sqrt(100))\n",
        "\n",
        "t_fifty_five = (55-50)/(40/np.sqrt(100))\n",
        "\n",
        "forty_five = stats.t.cdf(t_forty_five, df = dof)\n",
        "\n",
        "fifty_five = stats.t.cdf(t_fifty_five, dof)\n",
        "\n",
        "prob = fifty_five - forty_five\n",
        "\n",
        "np.round(stats.t.interval(alpha = prob, df = dof, loc = mean, scale = std/np.sqrt(n)),)\n",
        "\n",
        "print('The probability that in any given week, there will be an investigation is',np.round((1-prob)*100,1),'%')"
      ],
      "metadata": {
        "colab": {
          "base_uri": "https://localhost:8080/"
        },
        "id": "Cs4fsvMWVjeL",
        "outputId": "1a180b9b-c71b-47ca-c214-eca54d739550"
      },
      "execution_count": 3,
      "outputs": [
        {
          "output_type": "stream",
          "name": "stdout",
          "text": [
            "The probability that in any given week, there will be an investigation is 21.4 %\n"
          ]
        }
      ]
    },
    {
      "cell_type": "code",
      "source": [
        "# Q4"
      ],
      "metadata": {
        "id": "qUxYDbVsVtOb"
      },
      "execution_count": 4,
      "outputs": []
    },
    {
      "cell_type": "code",
      "source": [
        "x_bar = 45\n",
        "s_std = 40\n",
        "mew = 50\n",
        "\n",
        "t = np.round(stats.t.ppf(0.025, df = 249),2)\n",
        "t"
      ],
      "metadata": {
        "colab": {
          "base_uri": "https://localhost:8080/"
        },
        "id": "glc_yBfKVx4X",
        "outputId": "60966b81-a3a9-4aa4-b639-d895085a4b95"
      },
      "execution_count": 5,
      "outputs": [
        {
          "output_type": "execute_result",
          "data": {
            "text/plain": [
              "-1.97"
            ]
          },
          "metadata": {},
          "execution_count": 5
        }
      ]
    },
    {
      "cell_type": "code",
      "source": [
        "# n = (sample_standard_deviation*tscore)/(sample_mean=population_mean)\n",
        "n = ((s_std*abs(t)) / (5))**2\n",
        "\n",
        "print('The Auditors would like to maintain the probability of investigation to 5%, they should sample',np.round(n,),'transactions if they do not want to change the thresholds of 45 to 55')\n",
        "\n",
        "df= n-1\n",
        "print(n, df)\n",
        "\n",
        "np.round(stats.t.interval(alpha = 0.95, df = df, loc = mew, scale = s_std/np.sqrt(n)),)"
      ],
      "metadata": {
        "colab": {
          "base_uri": "https://localhost:8080/"
        },
        "id": "1kF8YlzbV77t",
        "outputId": "38b5c582-befd-43fb-cd94-d4f5c0ebcf03"
      },
      "execution_count": 6,
      "outputs": [
        {
          "output_type": "stream",
          "name": "stdout",
          "text": [
            "The Auditors would like to maintain the probability of investigation to 5%, they should sample 248.0 transactions if they do not want to change the thresholds of 45 to 55\n",
            "248.3776 247.3776\n"
          ]
        },
        {
          "output_type": "execute_result",
          "data": {
            "text/plain": [
              "array([45., 55.])"
            ]
          },
          "metadata": {},
          "execution_count": 6
        }
      ]
    }
  ]
}